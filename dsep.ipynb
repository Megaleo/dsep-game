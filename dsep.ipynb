{
 "cells": [
  {
   "cell_type": "code",
   "execution_count": 18,
   "id": "a55af056",
   "metadata": {},
   "outputs": [],
   "source": [
    "import networkx as nx\n",
    "import numpy as np\n",
    "import matplotlib.pyplot as plt"
   ]
  },
  {
   "cell_type": "code",
   "execution_count": 19,
   "id": "8d88db2b",
   "metadata": {
    "scrolled": false
   },
   "outputs": [
    {
     "data": {
      "image/png": "[encoded data removed]",
      "text/plain": [
       "<Figure size 432x288 with 1 Axes>"
      ]
     },
     "metadata": {},
     "output_type": "display_data"
    }
   ],
   "source": [
    "g = nx.DiGraph()\n",
    "g.add_nodes_from([0,1,2,3])\n",
    "g.add_edges_from([(0,1),(3,1),(3,2)])\n",
    "nx.draw(g, with_labels=True)"
   ]
  },
  {
   "cell_type": "code",
   "execution_count": 20,
   "id": "c4f20458",
   "metadata": {},
   "outputs": [
    {
     "data": {
      "image/png": "[encoded data removed]",
      "text/plain": [
       "<Figure size 432x288 with 1 Axes>"
      ]
     },
     "metadata": {},
     "output_type": "display_data"
    }
   ],
   "source": [
    "D = nx.gn_graph(5)\n",
    "nx.draw(D, with_labels=True)"
   ]
  },
  {
   "cell_type": "code",
   "execution_count": 21,
   "id": "723c57a9",
   "metadata": {},
   "outputs": [
    {
     "data": {
      "text/plain": [
       "True"
      ]
     },
     "execution_count": 21,
     "metadata": {},
     "output_type": "execute_result"
    }
   ],
   "source": [
    "nx.d_separated(g, {0}, {2}, {})"
   ]
  },
  {
   "cell_type": "code",
   "execution_count": 48,
   "id": "60ce2f5f",
   "metadata": {},
   "outputs": [],
   "source": [
    "def unblocked_path(g, path, Z):\n",
    "    if not nx.is_path(g.to_undirected(), path):\n",
    "        return False\n",
    "    \n",
    "    for x in path:\n",
    "        parents_in_path=set(g.predecessors(x)).intersection(path)\n",
    "        if x in Z:\n",
    "            children_in_path=set(g.successors(x)).intersection(path)\n",
    "            if children_in_path and (parents_in_path or len(children_in_path)>1):\n",
    "                return False\n",
    "        else:\n",
    "            no_desc_in_Z=nx.descendants(g,x).isdisjoint(Z)\n",
    "            if no_desc_in_Z and len(parents_in_path)>1:\n",
    "                return False\n",
    "    return True\n",
    "\n",
    "def gen_dinfo(G):\n",
    "    ns = list(G.nodes)\n",
    "    start, end, cond = np.random.choice(ns,size=3,replace=False)\n",
    "    return [{start}, {end}, {cond}]\n",
    "    \n",
    "    \n",
    "def is_affirmative(answer):\n",
    "    affirmative_answers = {'yes', 'true', 'aye', 'sim', '👍'}\n",
    "    return (answer[0] == 'y') or (answer in affirmative_answers)\n",
    "\n",
    "def is_negative(answer):\n",
    "    negative_answers = {'no', 'false', 'não', '👎'}\n",
    "    return (answer[0] == 'n') or (answer in negative_answers)\n",
    "    \n",
    "def parse(unblocked_raw):\n",
    "    '''Parses unblocked path input, returns list of ints'''\n",
    "    separators = {',', '.', '-', ';', ' '}\n",
    "    \n",
    "    unblocked = unblocked_raw.lower()     # ignore case\n",
    "    unblocked = unblocked.strip()         # remove trailing spaces\n",
    "    unblocked = unblocked.strip('[]{}()') # remove brackets\n",
    "    \n",
    "    sep_convention = separators.intersection(unblocked)\n",
    "    if len(sep_convention) > 1:\n",
    "        print(\"Sorry, I could't parse that. Try being a little more consistent\")\n",
    "        return\n",
    "    elif len(sep_convention) == 1:  # in case the person used a separator\n",
    "        sep = sep_convention.pop()\n",
    "        unblocked = unblocked.split(sep)\n",
    "        \n",
    "    return [int(i) for i in unblocked]\n",
    "    \n",
    "\n",
    "    \n",
    "def main():\n",
    "    for _ in range(1):\n",
    "        # Random Digraph\n",
    "        random_D = None\n",
    "        while random_D is None or not (nx.is_directed_acyclic_graph(random_D) and nx.is_connected(random_D.to_undirected())):\n",
    "            random_D = nx.fast_gnp_random_graph(10, 0.1, directed=True)\n",
    "        \n",
    "        # Draw it\n",
    "        nx.draw(random_D, with_labels=True)\n",
    "        plt.show()\n",
    "        \n",
    "        # Random starting, ending and conditional sets\n",
    "        s, e, c = gen_dinfo(random_D)\n",
    "        \n",
    "        d_sep_answer = nx.d_separated(random_D, s, e, c)\n",
    "        \n",
    "        # Take the input from user\n",
    "        d_sep_input = None\n",
    "        while d_sep_input is None:\n",
    "            d_sep_raw = input(f'Are {s} and {e} d-separated conditioned on {c}?\\n')\n",
    "            d_sep = d_sep_raw.strip().lower()\n",
    "            if is_affirmative(d_sep):\n",
    "                d_sep_input = True\n",
    "            elif is_negative(d_sep):\n",
    "                d_sep_input = False\n",
    "            else:\n",
    "                print(\"Sorry, didn't catch that\")\n",
    "        \n",
    "        if d_sep_answer and d_sep_input:\n",
    "            print('Congrats!')\n",
    "        elif d_sep_answer != d_sep_input:\n",
    "            print('No! Try again')\n",
    "        else: # Case in which it is not d-separated. So show the path.\n",
    "            # Take the input from user\n",
    "            unblocked_input = None\n",
    "            while unblocked_input is None:\n",
    "                unblocked_raw = input(f\"Ok! Now give me one unblocked path between {s} and {e}\\n\")\n",
    "                unblocked_list = parse(unblocked_raw)\n",
    "                if unblocked_list:\n",
    "                    if not ((unblocked_list[0] in s) and (unblocked_list[-1] in e)):\n",
    "                        print(f\"You have to start at {s} and end at {e}!\")    \n",
    "                    elif not set(random_D.nodes).issuperset(unblocked_list):\n",
    "                        print('Not a valid list of nodes!')\n",
    "                    else:\n",
    "                        unblocked_input = unblocked_list\n",
    "            \n",
    "            if unblocked_path(random_D, unblocked_input, c):\n",
    "                print('Congrats!!')\n",
    "            else:\n",
    "                print('Oh no :(')"
   ]
  },
  {
   "cell_type": "code",
   "execution_count": 49,
   "id": "11506b7c",
   "metadata": {},
   "outputs": [
    {
     "data": {
      "image/png": "[encoded data removed]",
      "text/plain": [
       "<Figure size 432x288 with 1 Axes>"
      ]
     },
     "metadata": {},
     "output_type": "display_data"
    },
    {
     "name": "stdout",
     "output_type": "stream",
     "text": [
      "Are {4} and {0} d-separated conditioned on {7}?\n",
      "no\n",
      "Ok! Now give me one unblocked path between {4} and {0}\n",
      "0\n",
      "You have to start at {4} and end at {0}!\n",
      "Ok! Now give me one unblocked path between {4} and {0}\n",
      "0;4\n",
      "You have to start at {4} and end at {0}!\n",
      "Ok! Now give me one unblocked path between {4} and {0}\n",
      "0,4\n",
      "You have to start at {4} and end at {0}!\n",
      "Ok! Now give me one unblocked path between {4} and {0}\n",
      "4,0\n",
      "Oh no :(\n"
     ]
    }
   ],
   "source": [
    "main()"
   ]
  },
  {
   "cell_type": "code",
   "execution_count": null,
   "id": "ced9502b",
   "metadata": {},
   "outputs": [],
   "source": [
    "G = nx.fast_gnp_random_graph(10, 0.2, directed=True)\n",
    "nx.draw(G, with_labels=True)\n",
    "plt.show()\n",
    "print(gen_dinfo(G))"
   ]
  }
 ],
 "metadata": {
  "kernelspec": {
   "display_name": "Python 3 (ipykernel)",
   "language": "python",
   "name": "python3"
  },
  "language_info": {
   "codemirror_mode": {
    "name": "ipython",
    "version": 3
   },
   "file_extension": ".py",
   "mimetype": "text/x-python",
   "name": "python",
   "nbconvert_exporter": "python",
   "pygments_lexer": "ipython3",
   "version": "3.10.6"
  }
 },
 "nbformat": 4,
 "nbformat_minor": 5
}
